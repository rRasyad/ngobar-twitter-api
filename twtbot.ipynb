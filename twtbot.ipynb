{
  "cells": [
    {
      "cell_type": "markdown",
      "metadata": {
        "id": "wnrh2TvakigE"
      },
      "source": [
        "# How to use Twitter API to make a BOT\n",
        "by Muhammad Fauzan Arrafi"
      ]
    },
    {
      "cell_type": "markdown",
      "metadata": {
        "id": "cEr9VCq2kigJ"
      },
      "source": [
        "## Requirements\n",
        "1. Install Python (latest stable version preferred)\n",
        "2. Install pip\n",
        "3. Get Twitter API key"
      ]
    },
    {
      "cell_type": "markdown",
      "metadata": {
        "id": "bMkLGxyIkigK"
      },
      "source": [
        "## Install tweepy"
      ]
    },
    {
      "cell_type": "code",
      "execution_count": 1,
      "metadata": {
        "id": "NTedbP8mkigK",
        "vscode": {
          "languageId": "powershell"
        }
      },
      "outputs": [
        {
          "name": "stdout",
          "output_type": "stream",
          "text": [
            "Collecting tweepy\n",
            "  Downloading tweepy-4.14.0-py3-none-any.whl.metadata (3.8 kB)\n",
            "Collecting oauthlib<4,>=3.2.0 (from tweepy)\n",
            "  Downloading oauthlib-3.2.2-py3-none-any.whl.metadata (7.5 kB)\n",
            "Requirement already satisfied: requests<3,>=2.27.0 in ./.venv/lib/python3.11/site-packages (from tweepy) (2.32.3)\n",
            "Collecting requests-oauthlib<2,>=1.2.0 (from tweepy)\n",
            "  Downloading requests_oauthlib-1.3.1-py2.py3-none-any.whl.metadata (10 kB)\n",
            "Requirement already satisfied: charset-normalizer<4,>=2 in ./.venv/lib/python3.11/site-packages (from requests<3,>=2.27.0->tweepy) (3.3.2)\n",
            "Requirement already satisfied: idna<4,>=2.5 in ./.venv/lib/python3.11/site-packages (from requests<3,>=2.27.0->tweepy) (3.7)\n",
            "Requirement already satisfied: urllib3<3,>=1.21.1 in ./.venv/lib/python3.11/site-packages (from requests<3,>=2.27.0->tweepy) (2.2.2)\n",
            "Requirement already satisfied: certifi>=2017.4.17 in ./.venv/lib/python3.11/site-packages (from requests<3,>=2.27.0->tweepy) (2024.6.2)\n",
            "Downloading tweepy-4.14.0-py3-none-any.whl (98 kB)\n",
            "\u001b[2K   \u001b[90m━━━━━━━━━━━━━━━━━━━━━━━━━━━━━━━━━━━━━━━━\u001b[0m \u001b[32m98.5/98.5 kB\u001b[0m \u001b[31m2.7 MB/s\u001b[0m eta \u001b[36m0:00:00\u001b[0m\n",
            "\u001b[?25hDownloading oauthlib-3.2.2-py3-none-any.whl (151 kB)\n",
            "\u001b[2K   \u001b[90m━━━━━━━━━━━━━━━━━━━━━━━━━━━━━━━━━━━━━━━━\u001b[0m \u001b[32m151.7/151.7 kB\u001b[0m \u001b[31m7.4 MB/s\u001b[0m eta \u001b[36m0:00:00\u001b[0m\n",
            "\u001b[?25hDownloading requests_oauthlib-1.3.1-py2.py3-none-any.whl (23 kB)\n",
            "Installing collected packages: oauthlib, requests-oauthlib, tweepy\n",
            "Successfully installed oauthlib-3.2.2 requests-oauthlib-1.3.1 tweepy-4.14.0\n",
            "\n",
            "\u001b[1m[\u001b[0m\u001b[34;49mnotice\u001b[0m\u001b[1;39;49m]\u001b[0m\u001b[39;49m A new release of pip is available: \u001b[0m\u001b[31;49m24.0\u001b[0m\u001b[39;49m -> \u001b[0m\u001b[32;49m24.1\u001b[0m\n",
            "\u001b[1m[\u001b[0m\u001b[34;49mnotice\u001b[0m\u001b[1;39;49m]\u001b[0m\u001b[39;49m To update, run: \u001b[0m\u001b[32;49mpip install --upgrade pip\u001b[0m\n",
            "Note: you may need to restart the kernel to use updated packages.\n"
          ]
        }
      ],
      "source": [
        "pip install tweepy"
      ]
    },
    {
      "cell_type": "markdown",
      "metadata": {
        "id": "_npLxN7CkigM"
      },
      "source": [
        "# 1. Simple tweet\n",
        "---"
      ]
    },
    {
      "cell_type": "markdown",
      "metadata": {
        "id": "-G-nB696kigM"
      },
      "source": [
        "### Import tweepy"
      ]
    },
    {
      "cell_type": "code",
      "execution_count": null,
      "metadata": {
        "id": "mSbPvFW3kigN"
      },
      "outputs": [],
      "source": [
        "import tweepy"
      ]
    },
    {
      "cell_type": "markdown",
      "metadata": {
        "id": "XMARWQt7kigN"
      },
      "source": [
        "### Get API_key and Access_key"
      ]
    },
    {
      "cell_type": "code",
      "execution_count": null,
      "metadata": {
        "id": "v3HPtu-hkigO"
      },
      "outputs": [],
      "source": [
        "consumer_key = \"***\"\n",
        "consumer_secret = \"***\"\n",
        "access_token = \"***\"\n",
        "access_token_secret = \"***\""
      ]
    },
    {
      "cell_type": "markdown",
      "metadata": {
        "id": "JafAH1AdkigO"
      },
      "source": [
        "### Auth using Api v1.1 and v2"
      ]
    },
    {
      "cell_type": "code",
      "execution_count": null,
      "metadata": {
        "id": "Dm4SW7jlkigO"
      },
      "outputs": [],
      "source": [
        "client = tweepy.Client(\n",
        "    consumer_key=consumer_key, consumer_secret=consumer_secret,\n",
        "    access_token=access_token, access_token_secret=access_token_secret\n",
        ")"
      ]
    },
    {
      "cell_type": "markdown",
      "metadata": {
        "id": "bzvbzCYrkigO"
      },
      "source": [
        "### Send the Tweet"
      ]
    },
    {
      "cell_type": "code",
      "execution_count": null,
      "metadata": {
        "id": "4oRUg4fgkigP"
      },
      "outputs": [],
      "source": [
        "text = \"Hello world!\"\n",
        "\n",
        "response = client.create_tweet(\n",
        "    text=text\n",
        ")"
      ]
    },
    {
      "cell_type": "markdown",
      "metadata": {
        "id": "y46Z9Az4kigP"
      },
      "source": [
        "# 2. Tweet with Img\n",
        "---"
      ]
    },
    {
      "cell_type": "markdown",
      "metadata": {
        "id": "Y70TlpbEkigP"
      },
      "source": [
        "### Import tweepy"
      ]
    },
    {
      "cell_type": "code",
      "execution_count": null,
      "metadata": {
        "id": "wpBTp-zzkigP"
      },
      "outputs": [],
      "source": [
        "import tweepy"
      ]
    },
    {
      "cell_type": "markdown",
      "metadata": {
        "id": "vOCvn-vrkigP"
      },
      "source": [
        "### Get API_key, Access_key and auth to Twitter"
      ]
    },
    {
      "cell_type": "code",
      "execution_count": null,
      "metadata": {
        "id": "SMvf-gcVkigQ"
      },
      "outputs": [],
      "source": [
        "consumer_key = \"***\"\n",
        "consumer_secret = \"***\"\n",
        "access_token = \"***\"\n",
        "access_token_secret = \"***\"\n",
        "\n",
        "client = tweepy.Client(\n",
        "    consumer_key=consumer_key, consumer_secret=consumer_secret,\n",
        "    access_token=access_token, access_token_secret=access_token_secret\n",
        ")\n",
        "\n",
        "auth = tweepy.OAuth1UserHandler(\n",
        "    consumer_key, consumer_secret, access_token, access_token_secret\n",
        ")\n",
        "\n",
        "api = tweepy.API(auth)"
      ]
    },
    {
      "cell_type": "markdown",
      "metadata": {
        "id": "w9BQ0gllkigQ"
      },
      "source": [
        "### Add text and Img path to tweet"
      ]
    },
    {
      "cell_type": "code",
      "execution_count": null,
      "metadata": {
        "id": "q9xes0tTkigQ"
      },
      "outputs": [],
      "source": [
        "medias = api.media_upload(\"YOUR_PATH\")\n",
        "text = \"Hello world!\"\n",
        "\n",
        "response = client.create_tweet(\n",
        "    text=text,\n",
        "    media_ids=[medias.media_id]\n",
        ")"
      ]
    },
    {
      "cell_type": "markdown",
      "metadata": {
        "id": "T6L6rK_bkigQ"
      },
      "source": [
        "# 3. Optimize the code\n",
        "---"
      ]
    },
    {
      "cell_type": "markdown",
      "metadata": {
        "id": "CQPGi5SIkigQ"
      },
      "source": [
        "### Import tweepy"
      ]
    },
    {
      "cell_type": "code",
      "execution_count": null,
      "metadata": {
        "id": "R6F6iL39kigQ"
      },
      "outputs": [],
      "source": [
        "import tweepy"
      ]
    },
    {
      "cell_type": "markdown",
      "metadata": {
        "id": "mg1o2DNukigQ"
      },
      "source": [
        "### Get api_key and access_key"
      ]
    },
    {
      "cell_type": "code",
      "execution_count": null,
      "metadata": {
        "id": "jHYVj5zKkigR"
      },
      "outputs": [],
      "source": [
        "consumer_key = \"***\"\n",
        "consumer_secret = \"***\"\n",
        "access_token = \"***\"\n",
        "access_token_secret = \"***\""
      ]
    },
    {
      "cell_type": "markdown",
      "metadata": {
        "id": "J_qlkDEmkigR"
      },
      "source": [
        "### Create function to Auth using both API v1.1 and API v2"
      ]
    },
    {
      "cell_type": "code",
      "execution_count": null,
      "metadata": {
        "id": "1helxg99kigR"
      },
      "outputs": [],
      "source": [
        "def client():\n",
        "    client = tweepy.Client(\n",
        "        consumer_key=consumer_key, consumer_secret=consumer_secret,\n",
        "        access_token=access_token, access_token_secret=access_token_secret\n",
        "    )\n",
        "    return client\n",
        "\n",
        "def auth():\n",
        "    auth = tweepy.OAuth1UserHandler(\n",
        "        consumer_key, consumer_secret, access_token, access_token_secret\n",
        "    )\n",
        "    api = tweepy.API(auth)\n",
        "    return api"
      ]
    },
    {
      "cell_type": "markdown",
      "metadata": {
        "id": "-ldhhdPIkigR"
      },
      "source": [
        "### Create a function to upload the img"
      ]
    },
    {
      "cell_type": "code",
      "execution_count": null,
      "metadata": {
        "id": "uxLRPgtGkigR"
      },
      "outputs": [],
      "source": [
        "def uploadImg(path: str):\n",
        "    api = auth()\n",
        "    medias = api.media_upload(path)\n",
        "    return medias"
      ]
    },
    {
      "cell_type": "markdown",
      "metadata": {
        "id": "5QXoWtqRkigR"
      },
      "source": [
        "### Create a Tweet function that send the post to Twitter"
      ]
    },
    {
      "cell_type": "code",
      "execution_count": null,
      "metadata": {
        "id": "wmYkx8NMkigS"
      },
      "outputs": [],
      "source": [
        "# this function will filter if user add a media or not\n",
        "\n",
        "def tweet(client: tweepy.Client,text: str, media_path: str = None):\n",
        "    if media_path:\n",
        "        medias = uploadImg(media_path)\n",
        "        response = client.create_tweet(\n",
        "            text=text,\n",
        "            media_ids=[medias.media_id]\n",
        "        )\n",
        "        print(f\"https://twitter.com/user/status/{response.data['id']}\")\n",
        "    else:\n",
        "        response = client.create_tweet(\n",
        "            text=text\n",
        "        )\n",
        "        print(f\"https://twitter.com/user/status/{response.data['id']}\")\n",
        "\n",
        "    print(\"Tweeted successfully!\")\n"
      ]
    },
    {
      "cell_type": "markdown",
      "metadata": {
        "id": "gTmDLzEVkigS"
      },
      "source": [
        "### Tweet!"
      ]
    },
    {
      "cell_type": "code",
      "execution_count": null,
      "metadata": {
        "id": "mDar4yDIkigS"
      },
      "outputs": [],
      "source": [
        "tweet(client(),\"Halloooooo\", \"YOUR_IMG.jpg\")"
      ]
    },
    {
      "cell_type": "markdown",
      "metadata": {
        "id": "N6bm-ZGwkigS"
      },
      "source": [
        "# 4 Add loop to Tweet a list of images\n",
        "---"
      ]
    },
    {
      "cell_type": "markdown",
      "metadata": {
        "id": "_PAPmfHhkigS"
      },
      "source": [
        "### Do the same as the number 3, and add Time after tweepy"
      ]
    },
    {
      "cell_type": "code",
      "execution_count": null,
      "metadata": {
        "id": "-C7TAqHPkigS"
      },
      "outputs": [],
      "source": [
        "#import tweepy <- tweepy\n",
        "import time"
      ]
    },
    {
      "cell_type": "markdown",
      "metadata": {
        "id": "PoLoeXyokigT"
      },
      "source": [
        "### Warp the executeable function into loop for loop a list of images"
      ]
    },
    {
      "cell_type": "code",
      "execution_count": null,
      "metadata": {
        "id": "Lb3it2FbkigT"
      },
      "outputs": [],
      "source": [
        "# This code will tweet a message and img based on number in loop\n",
        "for i in range(3):\n",
        "    count = i + 1\n",
        "    tweet(client(),\"yoooo\"+str(count), \"img/baked_goods_\" + str(count) + \".jpg\")\n",
        "    time.sleep(10)"
      ]
    },
    {
      "cell_type": "markdown",
      "metadata": {
        "id": "tIyI1o-ykigT"
      },
      "source": [
        "# 5. FULL CODE\n",
        "---"
      ]
    },
    {
      "cell_type": "code",
      "execution_count": null,
      "metadata": {
        "id": "PVrkbCbukigY"
      },
      "outputs": [],
      "source": [
        "import tweepy\n",
        "import time\n",
        "\n",
        "consumer_key = \"***\"\n",
        "consumer_secret = \"***\"\n",
        "access_token = \"***\"\n",
        "access_token_secret = \"***\"\n",
        "\n",
        "def client():\n",
        "    client = tweepy.Client(\n",
        "        consumer_key=consumer_key, consumer_secret=consumer_secret,\n",
        "        access_token=access_token, access_token_secret=access_token_secret\n",
        "    )\n",
        "    return client\n",
        "\n",
        "def auth():\n",
        "    auth = tweepy.OAuth1UserHandler(\n",
        "        consumer_key, consumer_secret, access_token, access_token_secret\n",
        "    )\n",
        "    api = tweepy.API(auth)\n",
        "    return api\n",
        "\n",
        "def uploadImg(path: str):\n",
        "    api = auth()\n",
        "    medias = api.media_upload(path)\n",
        "    return medias\n",
        "\n",
        "def tweet(client: tweepy.Client,text: str, media_path: str = None):\n",
        "    if media_path:\n",
        "        medias = uploadImg(media_path)\n",
        "        response = client.create_tweet(\n",
        "            text=text,\n",
        "            media_ids=[medias.media_id]\n",
        "        )\n",
        "        print(f\"https://twitter.com/user/status/{response.data['id']}\")\n",
        "    else:\n",
        "        response = client.create_tweet(\n",
        "            text=text\n",
        "        )\n",
        "        print(f\"https://twitter.com/user/status/{response.data['id']}\")\n",
        "\n",
        "    print(\"Tweeted successfully!\")\n",
        "\n",
        "for i in range(3):\n",
        "    count = i + 1\n",
        "    tweet(client(),\"yoooo\"+str(count), \"img/baked_goods_\" + str(count) + \".jpg\")\n",
        "    time.sleep(10)"
      ]
    },
    {
      "cell_type": "markdown",
      "metadata": {
        "id": "UwBP7s1KkigY"
      },
      "source": [
        "---\n",
        "# Happy Coding 🎉\n",
        "---"
      ]
    }
  ],
  "metadata": {
    "colab": {
      "provenance": []
    },
    "kernelspec": {
      "display_name": "Python 3",
      "name": "python3"
    },
    "language_info": {
      "codemirror_mode": {
        "name": "ipython",
        "version": 3
      },
      "file_extension": ".py",
      "mimetype": "text/x-python",
      "name": "python",
      "nbconvert_exporter": "python",
      "pygments_lexer": "ipython3",
      "version": "3.11.8"
    }
  },
  "nbformat": 4,
  "nbformat_minor": 0
}
